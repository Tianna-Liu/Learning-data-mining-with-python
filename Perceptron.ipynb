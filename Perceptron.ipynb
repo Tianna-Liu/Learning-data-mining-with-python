{
 "cells": [
  {
   "cell_type": "code",
   "execution_count": 1,
   "metadata": {
    "collapsed": true
   },
   "outputs": [],
   "source": [
    "#这个不是感知机 这个是梯度感知机\n",
    "import numpy as np"
   ]
  },
  {
   "cell_type": "code",
   "execution_count": 324,
   "metadata": {
    "collapsed": true
   },
   "outputs": [],
   "source": [
    "def f(x):\n",
    "    result = []\n",
    "    results = []\n",
    "    for x_i in x:\n",
    "        for x_j in x_i:\n",
    "            if x_j>0:\n",
    "                result.append(1)\n",
    "            else:\n",
    "                result.append(0)\n",
    "        results.append(result)\n",
    "    return np.array(results)"
   ]
  },
  {
   "cell_type": "code",
   "execution_count": 325,
   "metadata": {
    "collapsed": false
   },
   "outputs": [
    {
     "name": "stdout",
     "output_type": "stream",
     "text": [
      "[[1 1 1]]\n"
     ]
    }
   ],
   "source": [
    "# test all function here\n",
    "print (f([[0.3,4,5]]))"
   ]
  },
  {
   "cell_type": "code",
   "execution_count": 349,
   "metadata": {
    "collapsed": true
   },
   "outputs": [],
   "source": [
    "def predict_y(input_vec,weights,bias):\n",
    "    temp = np.dot(input_vec,weights.transpose())\n",
    "    print (temp)\n",
    "    temp = temp.transpose()+bias\n",
    "    print (temp)\n",
    "    return f(temp)\n",
    "    "
   ]
  },
  {
   "cell_type": "code",
   "execution_count": 350,
   "metadata": {
    "collapsed": false
   },
   "outputs": [],
   "source": [
    "input_vec = np.random.randint(1,10,size=(3,4))\n",
    "weights = np.ones((1,input_vec.shape[1]))"
   ]
  },
  {
   "cell_type": "code",
   "execution_count": 351,
   "metadata": {
    "collapsed": false
   },
   "outputs": [
    {
     "name": "stdout",
     "output_type": "stream",
     "text": [
      "[[3 7 1 6]\n",
      " [1 4 4 9]\n",
      " [5 4 2 6]]\n"
     ]
    }
   ],
   "source": [
    "print (input_vec)"
   ]
  },
  {
   "cell_type": "code",
   "execution_count": 352,
   "metadata": {
    "collapsed": false
   },
   "outputs": [
    {
     "name": "stdout",
     "output_type": "stream",
     "text": [
      "<class 'numpy.ndarray'>\n"
     ]
    }
   ],
   "source": [
    "print (type(weights))"
   ]
  },
  {
   "cell_type": "code",
   "execution_count": 353,
   "metadata": {
    "collapsed": false
   },
   "outputs": [
    {
     "name": "stdout",
     "output_type": "stream",
     "text": [
      "[[ 17.]\n",
      " [ 18.]\n",
      " [ 17.]]\n",
      "[[ 17.  18.  17.]]\n",
      "[[1 1 1]]\n",
      "\n"
     ]
    }
   ],
   "source": [
    "bias = 0\n",
    "print (predict_y(input_vec,weights,bias))\n",
    "print ()"
   ]
  },
  {
   "cell_type": "code",
   "execution_count": 331,
   "metadata": {
    "collapsed": true
   },
   "outputs": [],
   "source": [
    "\n",
    "def train(input_vec,target,weights,bias,alpha,max_iter):\n",
    "    for i in range(max_iter):\n",
    "        p_y = predict_y(input_vec,weights,bias)\n",
    "        delta = target-p_y#1*n\n",
    "        delta_w = np.dot(np.dot(alpha,delta),input_vec)\n",
    "        delta_b = np.dot(alpha,delta)\n",
    "        weights = weights+delta_w\n",
    "        bias = bias+delta_b\n",
    "    return weights,bias\n",
    "    \n"
   ]
  },
  {
   "cell_type": "code",
   "execution_count": 332,
   "metadata": {
    "collapsed": false
   },
   "outputs": [
    {
     "data": {
      "text/plain": [
       "array([[0, 0, 0]])"
      ]
     },
     "execution_count": 332,
     "metadata": {},
     "output_type": "execute_result"
    }
   ],
   "source": [
    "target = np.random.randint(0,1,size=(1,input_vec.shape[0]))\n",
    "target"
   ]
  },
  {
   "cell_type": "code",
   "execution_count": 333,
   "metadata": {
    "collapsed": false
   },
   "outputs": [
    {
     "name": "stdout",
     "output_type": "stream",
     "text": [
      "(4, 2)\n",
      "<class 'numpy.ndarray'>\n",
      "(1, 4)\n",
      "[[ 0.5  0.5]] [[ 0.   0.  -0.5 -0.5]]\n"
     ]
    }
   ],
   "source": [
    "alpha = 0.01\n",
    "MAX_ITER = 100\n",
    "input_vec = np.array([[1,1], [0,0], [1,0], [0,1]])\n",
    "print (input_vec.shape)\n",
    "target = np.array([[1, 0, 0, 0]])\n",
    "print (type(target))\n",
    "print (target.shape)\n",
    "weights = np.ones((1,input_vec.shape[1]))\n",
    "bias = np.zeros((1,input_vec.shape[0]))\n",
    "bias = 0\n",
    "weights,bias = train(input_vec,target,weights,bias,alpha,MAX_ITER)\n",
    "print (weights,bias)\n",
    "    "
   ]
  },
  {
   "cell_type": "code",
   "execution_count": null,
   "metadata": {
    "collapsed": true
   },
   "outputs": [],
   "source": []
  },
  {
   "cell_type": "code",
   "execution_count": null,
   "metadata": {
    "collapsed": true
   },
   "outputs": [],
   "source": []
  }
 ],
 "metadata": {
  "kernelspec": {
   "display_name": "Python 3",
   "language": "python",
   "name": "python3"
  },
  "language_info": {
   "codemirror_mode": {
    "name": "ipython",
    "version": 3
   },
   "file_extension": ".py",
   "mimetype": "text/x-python",
   "name": "python",
   "nbconvert_exporter": "python",
   "pygments_lexer": "ipython3",
   "version": "3.5.2"
  }
 },
 "nbformat": 4,
 "nbformat_minor": 2
}
