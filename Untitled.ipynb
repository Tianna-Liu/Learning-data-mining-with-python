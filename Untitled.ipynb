{
 "cells": [
  {
   "cell_type": "code",
   "execution_count": 1,
   "metadata": {
    "collapsed": false
   },
   "outputs": [],
   "source": [
    "#这个才是感知机\n",
    "import numpy as py"
   ]
  },
  {
   "cell_type": "code",
   "execution_count": 2,
   "metadata": {
    "collapsed": true
   },
   "outputs": [],
   "source": [
    "def f(x):\n",
    "    \n",
    "    #return 1 if x>0 else 0\n",
    "    return x"
   ]
  },
  {
   "cell_type": "code",
   "execution_count": 3,
   "metadata": {
    "collapsed": true
   },
   "outputs": [],
   "source": [
    "def train(max_iter,input_vecs,labels,alpha,weights,bias):\n",
    "    for i in range(max_iter):\n",
    "        weights,bias = train_one_iter(input_vecs,labels,alpha,weights,bias)\n",
    "    return weights,bias"
   ]
  },
  {
   "cell_type": "code",
   "execution_count": 4,
   "metadata": {
    "collapsed": true
   },
   "outputs": [],
   "source": [
    "def train_one_iter(input_vecs,labels,alpha,weights,bias):\n",
    "    y_temp = 0\n",
    "    for i in range(len(labels)):\n",
    "        y_temp = 0\n",
    "        for j in range(len(input_vecs[i])):\n",
    "            y_temp += input_vecs[i][j]*weights[j]\n",
    "            \n",
    "        y_temp += bias\n",
    "        \n",
    "        delta = labels[i]-f(y_temp)\n",
    "        for j in range(len(weights)):\n",
    "            weights[j] = weights[j]+alpha*delta*input_vecs[i][j]\n",
    "            \n",
    "        bias = bias+alpha*delta\n",
    "    return weights,bias"
   ]
  },
  {
   "cell_type": "code",
   "execution_count": 16,
   "metadata": {
    "collapsed": false
   },
   "outputs": [],
   "source": [
    "input_vecs = [ [0,0], [1,0], [0,1],[1,1]]\n",
    "input_vecs = [[5], [3], [8], [1.4], [10.1]]\n",
    "labels = [0, 1, 1,1]\n",
    "labels = [5500, 2300, 7600, 1800, 11400]\n",
    "bias = 0\n",
    "weights = [0.0 for _ in range(len(input_vecs[0]))]\n",
    "max_iter = 10\n",
    "alpha = 0.01\n",
    "weights,bias = train(max_iter,input_vecs,labels,alpha,weights,bias)\n"
   ]
  },
  {
   "cell_type": "code",
   "execution_count": 17,
   "metadata": {
    "collapsed": false
   },
   "outputs": [
    {
     "name": "stdout",
     "output_type": "stream",
     "text": [
      "[1124.0634970262222] 85.48528882583837\n"
     ]
    }
   ],
   "source": [
    "print (weights,bias)"
   ]
  },
  {
   "cell_type": "code",
   "execution_count": 13,
   "metadata": {
    "collapsed": false
   },
   "outputs": [],
   "source": [
    "def predict_test(weights,bias,input_test):\n",
    "    y_temp = 0\n",
    "    for w,i in zip(weights,input_test):\n",
    "        y_temp += w*i\n",
    "    y_temp += bias\n",
    "    return f(y_temp)"
   ]
  },
  {
   "cell_type": "code",
   "execution_count": 19,
   "metadata": {
    "collapsed": false
   },
   "outputs": [
    {
     "name": "stdout",
     "output_type": "stream",
     "text": [
      "16946.437744219173\n"
     ]
    }
   ],
   "source": [
    "print (predict_test(weights,bias,[15]))"
   ]
  },
  {
   "cell_type": "code",
   "execution_count": null,
   "metadata": {
    "collapsed": true
   },
   "outputs": [],
   "source": []
  }
 ],
 "metadata": {
  "kernelspec": {
   "display_name": "Python 3",
   "language": "python",
   "name": "python3"
  },
  "language_info": {
   "codemirror_mode": {
    "name": "ipython",
    "version": 3
   },
   "file_extension": ".py",
   "mimetype": "text/x-python",
   "name": "python",
   "nbconvert_exporter": "python",
   "pygments_lexer": "ipython3",
   "version": "3.5.2"
  }
 },
 "nbformat": 4,
 "nbformat_minor": 2
}
